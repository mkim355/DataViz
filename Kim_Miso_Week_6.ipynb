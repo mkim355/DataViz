{
 "cells": [
  {
   "cell_type": "code",
   "execution_count": 14,
   "id": "f0103725",
   "metadata": {},
   "outputs": [
    {
     "data": {
      "text/html": [
       "<div>\n",
       "<style scoped>\n",
       "    .dataframe tbody tr th:only-of-type {\n",
       "        vertical-align: middle;\n",
       "    }\n",
       "\n",
       "    .dataframe tbody tr th {\n",
       "        vertical-align: top;\n",
       "    }\n",
       "\n",
       "    .dataframe thead th {\n",
       "        text-align: right;\n",
       "    }\n",
       "</style>\n",
       "<table border=\"1\" class=\"dataframe\">\n",
       "  <thead>\n",
       "    <tr style=\"text-align: right;\">\n",
       "      <th></th>\n",
       "      <th>shop A</th>\n",
       "      <th>shop B</th>\n",
       "      <th>shop C</th>\n",
       "    </tr>\n",
       "  </thead>\n",
       "  <tbody>\n",
       "    <tr>\n",
       "      <th>2019</th>\n",
       "      <td>135</td>\n",
       "      <td>112</td>\n",
       "      <td>96</td>\n",
       "    </tr>\n",
       "    <tr>\n",
       "      <th>2020</th>\n",
       "      <td>117</td>\n",
       "      <td>133</td>\n",
       "      <td>108</td>\n",
       "    </tr>\n",
       "    <tr>\n",
       "      <th>2021</th>\n",
       "      <td>91</td>\n",
       "      <td>151</td>\n",
       "      <td>99</td>\n",
       "    </tr>\n",
       "    <tr>\n",
       "      <th>2022</th>\n",
       "      <td>86</td>\n",
       "      <td>162</td>\n",
       "      <td>104</td>\n",
       "    </tr>\n",
       "  </tbody>\n",
       "</table>\n",
       "</div>"
      ],
      "text/plain": [
       "      shop A  shop B  shop C\n",
       "2019     135     112      96\n",
       "2020     117     133     108\n",
       "2021      91     151      99\n",
       "2022      86     162     104"
      ]
     },
     "execution_count": 14,
     "metadata": {},
     "output_type": "execute_result"
    }
   ],
   "source": [
    "import pandas as pd\n",
    "\n",
    "a = [135, 117, 91, 86]\n",
    "b = [112, 133, 151, 162]\n",
    "c = [96, 108, 99, 104]\n",
    "year = ['2019', '2020', '2021', '2022']\n",
    "\n",
    "df = pd.DataFrame({'Bakeries' : a, 'Restaurants' : b, 'shop C' : c}, index = year)\n",
    "df"
   ]
  },
  {
   "cell_type": "code",
   "execution_count": 13,
   "id": "7c8e7f42",
   "metadata": {},
   "outputs": [
    {
     "data": {
      "image/png": "[encoded data removed]",
      "text/plain": [
       "<Figure size 1200x600 with 1 Axes>"
      ]
     },
     "metadata": {},
     "output_type": "display_data"
    }
   ],
   "source": [
    "import matplotlib.pyplot as plt\n",
    "import numpy as np\n",
    "\n",
    "\n",
    "fig, ax = plt.subplots(figsize=(12,6))\n",
    "bar_width = 0.25\n",
    "\n",
    "\n",
    "index = np.arange(4)\n",
    "\n",
    "\n",
    "b1 = plt.bar(index, df['shop A'], bar_width, alpha=0.4, color='red', label='shop A')\n",
    "\n",
    "b2 = plt.bar(index + bar_width, df['shop B'], bar_width, alpha=0.4, color='blue', label='shop B')\n",
    "\n",
    "b3 = plt.bar(index + 2 * bar_width, df['shop C'], bar_width, alpha=0.4, color='green', label='shop C')\n",
    "\n",
    "\n",
    "plt.xticks(np.arange(bar_width, 4 + bar_width, 1), year)\n",
    "\n",
    "\n",
    "plt.xlabel('year', size = 10)\n",
    "plt.ylabel('revenue', size = 10)\n",
    "plt.legend()\n",
    "plt.show()"
   ]
  },
  {
   "cell_type": "code",
   "execution_count": null,
   "id": "bf8eaf1f",
   "metadata": {},
   "outputs": [],
   "source": []
  },
  {
   "cell_type": "code",
   "execution_count": null,
   "id": "6b9e0384",
   "metadata": {},
   "outputs": [],
   "source": []
  }
 ],
 "metadata": {
  "kernelspec": {
   "display_name": "Python 3 (ipykernel)",
   "language": "python",
   "name": "python3"
  },
  "language_info": {
   "codemirror_mode": {
    "name": "ipython",
    "version": 3
   },
   "file_extension": ".py",
   "mimetype": "text/x-python",
   "name": "python",
   "nbconvert_exporter": "python",
   "pygments_lexer": "ipython3",
   "version": "3.9.12"
  }
 },
 "nbformat": 4,
 "nbformat_minor": 5
}
